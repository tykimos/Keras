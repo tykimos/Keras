{
  "nbformat": 4,
  "nbformat_minor": 0,
  "metadata": {
    "colab": {
      "name": "Colaboratory에 오신 것을 환영합니다",
      "provenance": [],
      "collapsed_sections": [],
      "toc_visible": true,
      "include_colab_link": true
    },
    "kernelspec": {
      "display_name": "Python 3",
      "name": "python3"
    }
  },
  "cells": [
    {
      "cell_type": "markdown",
      "metadata": {
        "id": "view-in-github",
        "colab_type": "text"
      },
      "source": [
        "<a href=\"https://colab.research.google.com/github/tykimos/Keras/blob/master/flight_test.ipynb\" target=\"_parent\"><img src=\"https://colab.research.google.com/assets/colab-badge.svg\" alt=\"Open In Colab\"/></a>"
      ]
    },
    {
      "cell_type": "code",
      "metadata": {
        "id": "FnazNZQBITkX",
        "colab_type": "code",
        "colab": {}
      },
      "source": [
        "# 0. 사용할 패키지 불러오기\n",
        "import numpy as np\n",
        "from keras.models import Sequential\n",
        "from keras.layers import Dense\n",
        "\n",
        "# 랜덤시드 고정시키기\n",
        "np.random.seed(5)\n",
        "\n",
        "# 1. 데이터 준비하기\n",
        "dataset = np.loadtxt(\"data.csv\", delimiter=\",\",  skiprows=1)\n",
        "\n",
        "import tensorflow as tf\n",
        "from tensorflow.keras.models import Sequential\n",
        "\n",
        "k = 5\n",
        "# //는 몫만을 구하는 나누기 연산\n",
        "num_validation = len(dataset) // k\n",
        "print(num_validation)\n",
        "np.random.shuffle(dataset)\n",
        "validation_scores = []\n",
        "\n",
        "for fold in range(k):\n",
        "    validation_data = dataset[num_validation * fold:\n",
        "                              num_validation * (fold + 1)]\n",
        "    # 리스트 + 리스트는 연결된 하나의 리스트를 생성한다\n",
        "    train_data = np.vstack((dataset[:num_validation * fold,], dataset[num_validation * (fold + 1):,]))\n",
        "    \n",
        "    x_train = train_data[:,0:11]\n",
        "    y_train = train_data[:,11]\n",
        "    x_test = validation_data[:,0:11]\n",
        "    y_test = validation_data[:,11]\n",
        "    \n",
        "    print(validation_data.shape)\n",
        "\n",
        "    # 3. 모델 구성하기\n",
        "    model = Sequential()\n",
        "    model.add(Dense(32, input_dim=11, activation='relu'))\n",
        "    model.add(Dense(16, activation='relu'))\n",
        "    model.add(Dense(1, activation='linear'))\n",
        "\n",
        "    # 4. 모델 학습과정 설정하기\n",
        "    model.compile(loss='mse', optimizer='adam', metrics=[tf.keras.metrics.RootMeanSquaredError()])\n",
        "\n",
        "    # 5. 모델 학습시키기\n",
        "    model.fit(x_train, y_train, epochs=100, batch_size=64)\n",
        "\n",
        "    val_score = model.evaluate(x_test, y_test)\n",
        "    validation_scores.append(val_score)\n",
        "    \n",
        "validation_score = np.average(validation_scores)\n",
        "\n",
        "print(validation_score)"
      ],
      "execution_count": 5,
      "outputs": []
    }
  ]
}