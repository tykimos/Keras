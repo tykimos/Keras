{
  "nbformat": 4,
  "nbformat_minor": 0,
  "metadata": {
    "colab": {
      "name": "pseudo_labeling.ipynb의 사본",
      "provenance": [],
      "collapsed_sections": [],
      "authorship_tag": "ABX9TyPSna+h3GlOJ4GexoRA+Qlx",
      "include_colab_link": true
    },
    "kernelspec": {
      "name": "python3",
      "display_name": "Python 3"
    },
    "accelerator": "GPU"
  },
  "cells": [
    {
      "cell_type": "markdown",
      "metadata": {
        "id": "view-in-github",
        "colab_type": "text"
      },
      "source": [
        "<a href=\"https://colab.research.google.com/github/tykimos/Keras/blob/master/pseudo_labeling.ipynb\" target=\"_parent\"><img src=\"https://colab.research.google.com/assets/colab-badge.svg\" alt=\"Open In Colab\"/></a>"
      ]
    },
    {
      "cell_type": "code",
      "metadata": {
        "id": "fQDgsC7HPsw7",
        "colab_type": "code",
        "colab": {
          "base_uri": "https://localhost:8080/",
          "height": 170
        },
        "outputId": "fcc66fe3-bb47-456b-edf5-0049e349f0eb"
      },
      "source": [
        "# 0. 사용할 패키지 불러오기\n",
        "from keras.utils import np_utils\n",
        "from keras.datasets import fashion_mnist\n",
        "from keras.models import Sequential\n",
        "from keras.layers import Dense, Activation\n",
        "from keras.layers import Conv2D, MaxPooling2D, Flatten\n",
        "import keras\n",
        "import numpy as np\n",
        "\n",
        "# 1. 데이터셋 생성하기\n",
        "(x_train, y_train), (x_test, y_test) = fashion_mnist.load_data()\n",
        "x_train = x_train.reshape(60000, 784).astype('float32') / 255.0\n",
        "x_test = x_test.reshape(10000, 784).astype('float32') / 255.0\n",
        "y_train = np_utils.to_categorical(y_train)\n",
        "y_test = np_utils.to_categorical(y_test)\n",
        "\n",
        "x_train_label = x_train[0:25000]\n",
        "x_train_no_label = x_train[25000:50000]\n",
        "x_val = x_train[50000:60000]\n",
        "\n",
        "y_train_label = y_train[0:25000]\n",
        "y_train_no_label = y_train[25000:50000]\n",
        "y_val = y_train[50000:60000]\n",
        "\n",
        "# 2. 모델 구성하기\n",
        "model = Sequential()\n",
        "model.add(Dense(units=64, activation='relu', input_dim=784))\n",
        "model.add(Dense(units=64, activation='relu'))\n",
        "model.add(Dense(units=10, activation='softmax'))\n",
        "\n",
        "# 3. 모델 학습과정 설정하기\n",
        "model.compile(loss='categorical_crossentropy', optimizer='adam', metrics=['accuracy'])"
      ],
      "execution_count": 1,
      "outputs": [
        {
          "output_type": "stream",
          "text": [
            "Using TensorFlow backend.\n"
          ],
          "name": "stderr"
        },
        {
          "output_type": "stream",
          "text": [
            "Downloading data from http://fashion-mnist.s3-website.eu-central-1.amazonaws.com/train-labels-idx1-ubyte.gz\n",
            "32768/29515 [=================================] - 0s 9us/step\n",
            "Downloading data from http://fashion-mnist.s3-website.eu-central-1.amazonaws.com/train-images-idx3-ubyte.gz\n",
            "26427392/26421880 [==============================] - 4s 0us/step\n",
            "Downloading data from http://fashion-mnist.s3-website.eu-central-1.amazonaws.com/t10k-labels-idx1-ubyte.gz\n",
            "8192/5148 [===============================================] - 0s 0us/step\n",
            "Downloading data from http://fashion-mnist.s3-website.eu-central-1.amazonaws.com/t10k-images-idx3-ubyte.gz\n",
            "4423680/4422102 [==============================] - 2s 1us/step\n"
          ],
          "name": "stdout"
        }
      ]
    },
    {
      "cell_type": "code",
      "metadata": {
        "id": "-RdvEfy4fLtZ",
        "colab_type": "code",
        "colab": {
          "base_uri": "https://localhost:8080/",
          "height": 1000
        },
        "outputId": "d4330c22-2f56-4aff-e95f-9176c9d4f0f1"
      },
      "source": [
        "batch_size = 32\n",
        "\n",
        "train_label_loss = []\n",
        "train_label_acc = []\n",
        "val_loss = []\n",
        "val_acc = []\n",
        "\n",
        "for epoch_idx in range(100):\n",
        "\n",
        "    batch_train_label_loss = []\n",
        "    batch_train_label_acc = []\n",
        "    batch_val_loss = []\n",
        "    batch_val_acc = []\n",
        "\n",
        "    for i in range(len(x_train_label)//batch_size):\n",
        "        x_batch = x_train_label[i*batch_size: (i+1)*batch_size]\n",
        "        y_batch = y_train_label[i*batch_size: (i+1)*batch_size]\n",
        "        loss, acc = model.train_on_batch(x_batch, y_batch)\n",
        "        batch_train_label_loss.append(loss)\n",
        "        batch_train_label_acc.append(acc)\n",
        "\n",
        "    for i in range(len(x_val)//batch_size):\n",
        "        x_batch = x_val[i*batch_size: (i+1)*batch_size]\n",
        "        y_batch = y_val[i*batch_size: (i+1)*batch_size]\n",
        "        xx = model.test_on_batch(x_batch, y_batch)\n",
        "        loss, acc = model.test_on_batch(x_batch, y_batch)\n",
        "        batch_val_loss.append(loss)\n",
        "        batch_val_acc.append(acc)\n",
        "\n",
        "    train_label_loss.append(np.mean(batch_train_label_loss))\n",
        "    train_label_acc.append(np.mean(batch_train_label_acc))\n",
        "    val_loss.append(np.mean(batch_val_loss))\n",
        "    val_acc.append(np.mean(batch_val_acc))\n",
        "\n",
        "    model.save((str(epoch_idx) + '_model'))\n",
        "\n",
        "    print('epoch {0:4d} train_label acc {1:0.3f} loss {2:0.3f} val acc {3:0.3f} loss {4:0.3f}'.format(epoch_idx, \n",
        "                                                                                                      np.mean(batch_train_label_acc), \n",
        "                                                                                                      np.mean(batch_train_label_loss), \n",
        "                                                                                                      np.mean(batch_val_acc), \n",
        "                                                                                                      np.mean(batch_val_loss)))"
      ],
      "execution_count": 3,
      "outputs": [
        {
          "output_type": "stream",
          "text": [
            "epoch    0 train_label acc 0.785 loss 0.612 val acc 0.832 loss 0.481\n",
            "epoch    1 train_label acc 0.844 loss 0.430 val acc 0.841 loss 0.452\n",
            "epoch    2 train_label acc 0.856 loss 0.387 val acc 0.846 loss 0.432\n",
            "epoch    3 train_label acc 0.869 loss 0.355 val acc 0.844 loss 0.428\n",
            "epoch    4 train_label acc 0.876 loss 0.332 val acc 0.854 loss 0.407\n",
            "epoch    5 train_label acc 0.883 loss 0.312 val acc 0.853 loss 0.411\n",
            "epoch    6 train_label acc 0.889 loss 0.296 val acc 0.864 loss 0.390\n",
            "epoch    7 train_label acc 0.895 loss 0.283 val acc 0.861 loss 0.407\n",
            "epoch    8 train_label acc 0.899 loss 0.269 val acc 0.863 loss 0.400\n",
            "epoch    9 train_label acc 0.904 loss 0.259 val acc 0.862 loss 0.415\n",
            "epoch   10 train_label acc 0.906 loss 0.249 val acc 0.867 loss 0.403\n",
            "epoch   11 train_label acc 0.909 loss 0.242 val acc 0.867 loss 0.403\n",
            "epoch   12 train_label acc 0.913 loss 0.230 val acc 0.865 loss 0.435\n",
            "epoch   13 train_label acc 0.918 loss 0.222 val acc 0.861 loss 0.432\n",
            "epoch   14 train_label acc 0.920 loss 0.216 val acc 0.862 loss 0.441\n",
            "epoch   15 train_label acc 0.922 loss 0.207 val acc 0.871 loss 0.434\n",
            "epoch   16 train_label acc 0.924 loss 0.201 val acc 0.869 loss 0.434\n",
            "epoch   17 train_label acc 0.928 loss 0.192 val acc 0.865 loss 0.460\n",
            "epoch   18 train_label acc 0.928 loss 0.191 val acc 0.869 loss 0.440\n",
            "epoch   19 train_label acc 0.933 loss 0.182 val acc 0.867 loss 0.469\n",
            "epoch   20 train_label acc 0.934 loss 0.176 val acc 0.866 loss 0.480\n",
            "epoch   21 train_label acc 0.937 loss 0.168 val acc 0.864 loss 0.495\n",
            "epoch   22 train_label acc 0.937 loss 0.167 val acc 0.873 loss 0.466\n",
            "epoch   23 train_label acc 0.941 loss 0.158 val acc 0.866 loss 0.506\n",
            "epoch   24 train_label acc 0.942 loss 0.155 val acc 0.869 loss 0.503\n",
            "epoch   25 train_label acc 0.942 loss 0.158 val acc 0.866 loss 0.551\n",
            "epoch   26 train_label acc 0.945 loss 0.145 val acc 0.869 loss 0.519\n",
            "epoch   27 train_label acc 0.948 loss 0.139 val acc 0.872 loss 0.527\n",
            "epoch   28 train_label acc 0.948 loss 0.137 val acc 0.869 loss 0.562\n",
            "epoch   29 train_label acc 0.948 loss 0.138 val acc 0.869 loss 0.561\n",
            "epoch   30 train_label acc 0.950 loss 0.133 val acc 0.868 loss 0.555\n",
            "epoch   31 train_label acc 0.953 loss 0.125 val acc 0.871 loss 0.580\n",
            "epoch   32 train_label acc 0.951 loss 0.131 val acc 0.870 loss 0.562\n",
            "epoch   33 train_label acc 0.953 loss 0.123 val acc 0.876 loss 0.562\n",
            "epoch   34 train_label acc 0.956 loss 0.119 val acc 0.874 loss 0.581\n",
            "epoch   35 train_label acc 0.954 loss 0.119 val acc 0.867 loss 0.627\n",
            "epoch   36 train_label acc 0.956 loss 0.120 val acc 0.868 loss 0.625\n",
            "epoch   37 train_label acc 0.958 loss 0.116 val acc 0.865 loss 0.622\n",
            "epoch   38 train_label acc 0.957 loss 0.113 val acc 0.872 loss 0.626\n",
            "epoch   39 train_label acc 0.960 loss 0.111 val acc 0.872 loss 0.654\n",
            "epoch   40 train_label acc 0.961 loss 0.103 val acc 0.873 loss 0.639\n",
            "epoch   41 train_label acc 0.961 loss 0.101 val acc 0.874 loss 0.632\n",
            "epoch   42 train_label acc 0.962 loss 0.104 val acc 0.872 loss 0.651\n",
            "epoch   43 train_label acc 0.958 loss 0.111 val acc 0.863 loss 0.710\n",
            "epoch   44 train_label acc 0.963 loss 0.100 val acc 0.869 loss 0.650\n",
            "epoch   45 train_label acc 0.966 loss 0.096 val acc 0.876 loss 0.674\n",
            "epoch   46 train_label acc 0.962 loss 0.098 val acc 0.871 loss 0.705\n",
            "epoch   47 train_label acc 0.963 loss 0.097 val acc 0.865 loss 0.696\n",
            "epoch   48 train_label acc 0.964 loss 0.097 val acc 0.873 loss 0.674\n",
            "epoch   49 train_label acc 0.967 loss 0.092 val acc 0.873 loss 0.706\n",
            "epoch   50 train_label acc 0.965 loss 0.091 val acc 0.872 loss 0.696\n",
            "epoch   51 train_label acc 0.967 loss 0.087 val acc 0.863 loss 0.805\n",
            "epoch   52 train_label acc 0.969 loss 0.085 val acc 0.873 loss 0.760\n",
            "epoch   53 train_label acc 0.968 loss 0.084 val acc 0.870 loss 0.756\n",
            "epoch   54 train_label acc 0.970 loss 0.081 val acc 0.868 loss 0.747\n",
            "epoch   55 train_label acc 0.969 loss 0.083 val acc 0.868 loss 0.750\n",
            "epoch   56 train_label acc 0.968 loss 0.082 val acc 0.868 loss 0.790\n",
            "epoch   57 train_label acc 0.969 loss 0.081 val acc 0.870 loss 0.776\n",
            "epoch   58 train_label acc 0.971 loss 0.077 val acc 0.872 loss 0.767\n",
            "epoch   59 train_label acc 0.971 loss 0.078 val acc 0.869 loss 0.807\n",
            "epoch   60 train_label acc 0.969 loss 0.079 val acc 0.865 loss 0.804\n",
            "epoch   61 train_label acc 0.973 loss 0.073 val acc 0.870 loss 0.819\n",
            "epoch   62 train_label acc 0.973 loss 0.074 val acc 0.868 loss 0.857\n",
            "epoch   63 train_label acc 0.973 loss 0.071 val acc 0.868 loss 0.818\n",
            "epoch   64 train_label acc 0.973 loss 0.072 val acc 0.865 loss 0.867\n",
            "epoch   65 train_label acc 0.972 loss 0.074 val acc 0.865 loss 0.845\n",
            "epoch   66 train_label acc 0.974 loss 0.070 val acc 0.862 loss 0.910\n",
            "epoch   67 train_label acc 0.976 loss 0.065 val acc 0.861 loss 0.924\n",
            "epoch   68 train_label acc 0.974 loss 0.068 val acc 0.865 loss 0.906\n",
            "epoch   69 train_label acc 0.973 loss 0.070 val acc 0.855 loss 0.980\n",
            "epoch   70 train_label acc 0.977 loss 0.066 val acc 0.865 loss 0.927\n",
            "epoch   71 train_label acc 0.975 loss 0.066 val acc 0.865 loss 0.963\n",
            "epoch   72 train_label acc 0.976 loss 0.064 val acc 0.861 loss 0.935\n",
            "epoch   73 train_label acc 0.977 loss 0.061 val acc 0.863 loss 0.974\n",
            "epoch   74 train_label acc 0.974 loss 0.073 val acc 0.863 loss 0.977\n",
            "epoch   75 train_label acc 0.978 loss 0.058 val acc 0.864 loss 0.961\n",
            "epoch   76 train_label acc 0.979 loss 0.059 val acc 0.866 loss 0.983\n",
            "epoch   77 train_label acc 0.976 loss 0.065 val acc 0.862 loss 1.004\n",
            "epoch   78 train_label acc 0.979 loss 0.056 val acc 0.865 loss 1.006\n",
            "epoch   79 train_label acc 0.978 loss 0.059 val acc 0.866 loss 1.016\n",
            "epoch   80 train_label acc 0.979 loss 0.054 val acc 0.858 loss 1.039\n",
            "epoch   81 train_label acc 0.977 loss 0.063 val acc 0.863 loss 1.017\n",
            "epoch   82 train_label acc 0.976 loss 0.061 val acc 0.866 loss 0.977\n",
            "epoch   83 train_label acc 0.979 loss 0.056 val acc 0.861 loss 1.048\n",
            "epoch   84 train_label acc 0.980 loss 0.055 val acc 0.870 loss 1.054\n",
            "epoch   85 train_label acc 0.980 loss 0.052 val acc 0.865 loss 1.078\n",
            "epoch   86 train_label acc 0.977 loss 0.059 val acc 0.861 loss 1.072\n",
            "epoch   87 train_label acc 0.979 loss 0.058 val acc 0.865 loss 1.053\n",
            "epoch   88 train_label acc 0.982 loss 0.049 val acc 0.863 loss 1.075\n",
            "epoch   89 train_label acc 0.979 loss 0.054 val acc 0.864 loss 1.135\n",
            "epoch   90 train_label acc 0.979 loss 0.059 val acc 0.866 loss 1.081\n",
            "epoch   91 train_label acc 0.979 loss 0.056 val acc 0.864 loss 1.102\n",
            "epoch   92 train_label acc 0.980 loss 0.053 val acc 0.863 loss 1.108\n",
            "epoch   93 train_label acc 0.980 loss 0.054 val acc 0.866 loss 1.101\n",
            "epoch   94 train_label acc 0.983 loss 0.049 val acc 0.861 loss 1.119\n",
            "epoch   95 train_label acc 0.981 loss 0.051 val acc 0.866 loss 1.108\n",
            "epoch   96 train_label acc 0.980 loss 0.055 val acc 0.861 loss 1.132\n",
            "epoch   97 train_label acc 0.978 loss 0.060 val acc 0.862 loss 1.141\n",
            "epoch   98 train_label acc 0.985 loss 0.039 val acc 0.865 loss 1.138\n",
            "epoch   99 train_label acc 0.981 loss 0.051 val acc 0.863 loss 1.162\n"
          ],
          "name": "stdout"
        }
      ]
    },
    {
      "cell_type": "code",
      "metadata": {
        "id": "SCbw3x6QeodN",
        "colab_type": "code",
        "colab": {
          "base_uri": "https://localhost:8080/",
          "height": 280
        },
        "outputId": "ed157e61-82c6-4905-bda8-62935a89720a"
      },
      "source": [
        "%matplotlib inline\n",
        "import matplotlib.pyplot as plt\n",
        "\n",
        "fig, loss_ax = plt.subplots()\n",
        "\n",
        "acc_ax = loss_ax.twinx()\n",
        "\n",
        "loss_ax.plot(train_label_loss, 'b', label='train label loss')\n",
        "loss_ax.plot(val_loss, 'r', label='val loss')\n",
        "\n",
        "acc_ax.plot(train_label_acc, 'c', label='train label acc')\n",
        "acc_ax.plot(val_acc, 'y', label='val acc')\n",
        "\n",
        "# 'b', 'g', 'r', 'c', 'm', 'y', 'k', 'w'\n",
        "\n",
        "loss_ax.set_xlabel('epoch')\n",
        "loss_ax.set_ylabel('loss')\n",
        "acc_ax.set_ylabel('accuracy')\n",
        "\n",
        "loss_ax.legend(loc='upper left')\n",
        "acc_ax.legend(loc='lower left')\n",
        "\n",
        "plt.show()"
      ],
      "execution_count": 4,
      "outputs": [
        {
          "output_type": "display_data",
          "data": {
            "image/png": "[encoded data removed]",
            "text/plain": [
              "<Figure size 432x288 with 2 Axes>"
            ]
          },
          "metadata": {
            "tags": [],
            "needs_background": "light"
          }
        }
      ]
    },
    {
      "cell_type": "code",
      "metadata": {
        "id": "5WBeg6iIFgOE",
        "colab_type": "code",
        "colab": {
          "base_uri": "https://localhost:8080/",
          "height": 1000
        },
        "outputId": "f2320675-a5e4-45e1-8105-3788d28086a6"
      },
      "source": [
        "model = keras.models.load_model('6_model')\n",
        "\n",
        "train_no_label_loss = []\n",
        "train_no_label_acc = []\n",
        "val_loss = []\n",
        "val_acc = []\n",
        "\n",
        "for epoch_idx in range(100):\n",
        "\n",
        "    batch_train_no_label_loss = []\n",
        "    batch_train_no_label_acc = []\n",
        "    batch_val_loss = []\n",
        "    batch_val_acc = []\n",
        "\n",
        "    for i in range(len(x_train_no_label)//batch_size):\n",
        "        x_batch = x_train_no_label[i*batch_size: (i+1)*batch_size]\n",
        "        y_true_batch = y_train_no_label[i*batch_size: (i+1)*batch_size]\n",
        "        y_pred_batch = model.predict_on_batch(x_batch)\n",
        "        y_pseudo_batch = np.zeros((batch_size, 10))\n",
        "        \n",
        "        for b in range(batch_size):\n",
        "            ys = y_pred_batch[b]\n",
        "            y_pseudo_batch[b, np.argmax(ys)] = 1.0\n",
        "\n",
        "        loss, _ = model.train_on_batch(x_batch, y_pseudo_batch)\n",
        "        acc = np.mean(np.equal(y_true_batch, y_pseudo_batch))\n",
        "\n",
        "        batch_train_no_label_loss.append(loss)\n",
        "        batch_train_no_label_acc.append(acc)\n",
        "\n",
        "    for i in range(len(x_val)//batch_size):\n",
        "        x_batch = x_val[i*batch_size: (i+1)*batch_size]\n",
        "        y_batch = y_val[i*batch_size: (i+1)*batch_size]\n",
        "        xx = model.test_on_batch(x_batch, y_batch)\n",
        "        loss, acc = model.test_on_batch(x_batch, y_batch)\n",
        "        batch_val_loss.append(loss)\n",
        "        batch_val_acc.append(acc)\n",
        "\n",
        "    train_no_label_loss.append(np.mean(batch_train_no_label_loss))\n",
        "    train_no_label_acc.append(np.mean(batch_train_no_label_acc))\n",
        "    val_loss.append(np.mean(batch_val_loss))\n",
        "    val_acc.append(np.mean(batch_val_acc))\n",
        "\n",
        "    model.save('no_label_' + str(epoch_idx) + '_model')\n",
        "\n",
        "    print('epoch {0:4d} train no_label acc {1:0.3f} loss {2:0.3f} val acc {3:0.3f} loss {4:0.3f}'.format(epoch_idx,\n",
        "                                                                                                         np.mean(batch_train_no_label_acc), \n",
        "                                                                                                         np.mean(batch_train_no_label_loss), \n",
        "                                                                                                         np.mean(batch_val_acc), \n",
        "                                                                                                         np.mean(batch_val_loss)))"
      ],
      "execution_count": 7,
      "outputs": [
        {
          "output_type": "stream",
          "text": [
            "epoch    0 train no_label acc 0.932 loss 0.040 val acc 0.428 loss 14.550\n",
            "epoch    1 train no_label acc 0.858 loss 0.014 val acc 0.149 loss 75.294\n",
            "epoch    2 train no_label acc 0.820 loss 0.000 val acc 0.105 loss 99.275\n",
            "epoch    3 train no_label acc 0.820 loss 0.000 val acc 0.105 loss 99.424\n",
            "epoch    4 train no_label acc 0.820 loss 0.000 val acc 0.105 loss 99.580\n",
            "epoch    5 train no_label acc 0.820 loss 0.000 val acc 0.105 loss 99.750\n",
            "epoch    6 train no_label acc 0.820 loss 0.000 val acc 0.105 loss 99.924\n",
            "epoch    7 train no_label acc 0.820 loss 0.000 val acc 0.105 loss 100.297\n",
            "epoch    8 train no_label acc 0.820 loss 0.000 val acc 0.105 loss 100.690\n",
            "epoch    9 train no_label acc 0.820 loss 0.000 val acc 0.105 loss 101.209\n",
            "epoch   10 train no_label acc 0.820 loss 0.000 val acc 0.105 loss 101.888\n",
            "epoch   11 train no_label acc 0.820 loss 0.000 val acc 0.105 loss 128.368\n",
            "epoch   12 train no_label acc 0.820 loss 0.000 val acc 0.105 loss 128.369\n",
            "epoch   13 train no_label acc 0.820 loss 0.000 val acc 0.105 loss 128.370\n",
            "epoch   14 train no_label acc 0.820 loss 0.000 val acc 0.105 loss 128.373\n",
            "epoch   15 train no_label acc 0.820 loss 0.000 val acc 0.105 loss 128.377\n",
            "epoch   16 train no_label acc 0.820 loss 0.000 val acc 0.105 loss 128.382\n",
            "epoch   17 train no_label acc 0.820 loss 0.000 val acc 0.105 loss 128.391\n",
            "epoch   18 train no_label acc 0.820 loss 0.000 val acc 0.105 loss 128.404\n",
            "epoch   19 train no_label acc 0.820 loss 0.000 val acc 0.105 loss 128.423\n",
            "epoch   20 train no_label acc 0.820 loss 0.000 val acc 0.105 loss 128.452\n",
            "epoch   21 train no_label acc 0.820 loss 0.000 val acc 0.105 loss 128.494\n",
            "epoch   22 train no_label acc 0.820 loss 0.000 val acc 0.105 loss 128.553\n",
            "epoch   23 train no_label acc 0.820 loss 0.000 val acc 0.105 loss 128.637\n",
            "epoch   24 train no_label acc 0.820 loss 0.000 val acc 0.105 loss 128.749\n",
            "epoch   25 train no_label acc 0.820 loss 0.000 val acc 0.105 loss 128.901\n",
            "epoch   26 train no_label acc 0.820 loss 0.000 val acc 0.105 loss 129.105\n",
            "epoch   27 train no_label acc 0.820 loss 0.000 val acc 0.105 loss 129.365\n",
            "epoch   28 train no_label acc 0.820 loss 0.000 val acc 0.105 loss 129.687\n",
            "epoch   29 train no_label acc 0.820 loss 0.000 val acc 0.105 loss 130.067\n",
            "epoch   30 train no_label acc 0.820 loss 0.000 val acc 0.105 loss 130.496\n",
            "epoch   31 train no_label acc 0.820 loss 0.000 val acc 0.105 loss 130.960\n",
            "epoch   32 train no_label acc 0.820 loss 0.000 val acc 0.105 loss 131.492\n",
            "epoch   33 train no_label acc 0.820 loss 0.000 val acc 0.105 loss 131.990\n",
            "epoch   34 train no_label acc 0.820 loss 0.000 val acc 0.105 loss 132.511\n",
            "epoch   35 train no_label acc 0.820 loss 0.000 val acc 0.105 loss 133.052\n",
            "epoch   36 train no_label acc 0.820 loss 0.000 val acc 0.105 loss 133.603\n",
            "epoch   37 train no_label acc 0.820 loss 0.000 val acc 0.105 loss 134.113\n",
            "epoch   38 train no_label acc 0.820 loss 0.000 val acc 0.105 loss 134.612\n",
            "epoch   39 train no_label acc 0.820 loss 0.000 val acc 0.105 loss 135.089\n",
            "epoch   40 train no_label acc 0.820 loss 0.000 val acc 0.105 loss 135.514\n",
            "epoch   41 train no_label acc 0.820 loss 0.000 val acc 0.105 loss 135.947\n",
            "epoch   42 train no_label acc 0.820 loss 0.000 val acc 0.105 loss 136.387\n",
            "epoch   43 train no_label acc 0.820 loss 0.000 val acc 0.105 loss 136.828\n",
            "epoch   44 train no_label acc 0.820 loss 0.000 val acc 0.105 loss 137.213\n",
            "epoch   45 train no_label acc 0.820 loss 0.000 val acc 0.105 loss 137.392\n",
            "epoch   46 train no_label acc 0.820 loss 0.000 val acc 0.105 loss 137.569\n",
            "epoch   47 train no_label acc 0.820 loss 0.000 val acc 0.105 loss 137.745\n",
            "epoch   48 train no_label acc 0.820 loss 0.000 val acc 0.105 loss 137.920\n",
            "epoch   49 train no_label acc 0.820 loss 0.000 val acc 0.105 loss 138.092\n",
            "epoch   50 train no_label acc 0.820 loss 0.000 val acc 0.105 loss 138.263\n",
            "epoch   51 train no_label acc 0.820 loss 0.000 val acc 0.105 loss 138.432\n",
            "epoch   52 train no_label acc 0.820 loss 0.000 val acc 0.105 loss 138.536\n",
            "epoch   53 train no_label acc 0.820 loss 0.000 val acc 0.105 loss 138.640\n",
            "epoch   54 train no_label acc 0.820 loss 0.000 val acc 0.105 loss 138.743\n",
            "epoch   55 train no_label acc 0.820 loss 0.000 val acc 0.105 loss 138.845\n",
            "epoch   56 train no_label acc 0.820 loss 0.000 val acc 0.105 loss 138.945\n",
            "epoch   57 train no_label acc 0.820 loss 0.000 val acc 0.105 loss 139.045\n",
            "epoch   58 train no_label acc 0.820 loss 0.000 val acc 0.105 loss 139.144\n",
            "epoch   59 train no_label acc 0.820 loss 0.000 val acc 0.105 loss 139.241\n",
            "epoch   60 train no_label acc 0.820 loss 0.000 val acc 0.105 loss 139.338\n",
            "epoch   61 train no_label acc 0.820 loss 0.000 val acc 0.105 loss 139.434\n",
            "epoch   62 train no_label acc 0.820 loss 0.000 val acc 0.105 loss 139.530\n",
            "epoch   63 train no_label acc 0.820 loss 0.000 val acc 0.105 loss 139.624\n",
            "epoch   64 train no_label acc 0.820 loss 0.000 val acc 0.105 loss 139.718\n",
            "epoch   65 train no_label acc 0.820 loss 0.000 val acc 0.105 loss 139.811\n",
            "epoch   66 train no_label acc 0.820 loss 0.000 val acc 0.105 loss 139.904\n",
            "epoch   67 train no_label acc 0.820 loss 0.000 val acc 0.105 loss 139.996\n",
            "epoch   68 train no_label acc 0.820 loss 0.000 val acc 0.105 loss 140.087\n",
            "epoch   69 train no_label acc 0.820 loss 0.000 val acc 0.105 loss 140.177\n",
            "epoch   70 train no_label acc 0.820 loss 0.000 val acc 0.105 loss 140.267\n",
            "epoch   71 train no_label acc 0.820 loss 0.000 val acc 0.105 loss 140.357\n",
            "epoch   72 train no_label acc 0.820 loss 0.000 val acc 0.105 loss 140.445\n",
            "epoch   73 train no_label acc 0.820 loss 0.000 val acc 0.105 loss 140.534\n",
            "epoch   74 train no_label acc 0.820 loss 0.000 val acc 0.105 loss 140.621\n",
            "epoch   75 train no_label acc 0.820 loss 0.000 val acc 0.105 loss 140.709\n",
            "epoch   76 train no_label acc 0.820 loss 0.000 val acc 0.105 loss 140.795\n",
            "epoch   77 train no_label acc 0.820 loss 0.000 val acc 0.105 loss 140.819\n",
            "epoch   78 train no_label acc 0.820 loss 0.000 val acc 0.105 loss 140.843\n",
            "epoch   79 train no_label acc 0.820 loss 0.000 val acc 0.105 loss 140.866\n",
            "epoch   80 train no_label acc 0.820 loss 0.000 val acc 0.105 loss 140.890\n",
            "epoch   81 train no_label acc 0.820 loss 0.000 val acc 0.105 loss 140.913\n",
            "epoch   82 train no_label acc 0.820 loss 0.000 val acc 0.105 loss 140.936\n",
            "epoch   83 train no_label acc 0.820 loss 0.000 val acc 0.105 loss 140.958\n",
            "epoch   84 train no_label acc 0.820 loss 0.000 val acc 0.105 loss 140.981\n",
            "epoch   85 train no_label acc 0.820 loss 0.000 val acc 0.105 loss 141.003\n",
            "epoch   86 train no_label acc 0.820 loss 0.000 val acc 0.105 loss 141.025\n",
            "epoch   87 train no_label acc 0.820 loss 0.000 val acc 0.105 loss 141.047\n",
            "epoch   88 train no_label acc 0.820 loss 0.000 val acc 0.105 loss 141.069\n",
            "epoch   89 train no_label acc 0.820 loss 0.000 val acc 0.105 loss 141.091\n",
            "epoch   90 train no_label acc 0.820 loss 0.000 val acc 0.105 loss 141.113\n",
            "epoch   91 train no_label acc 0.820 loss 0.000 val acc 0.105 loss 141.134\n",
            "epoch   92 train no_label acc 0.820 loss 0.000 val acc 0.105 loss 141.155\n",
            "epoch   93 train no_label acc 0.820 loss 0.000 val acc 0.105 loss 141.176\n",
            "epoch   94 train no_label acc 0.820 loss 0.000 val acc 0.105 loss 141.197\n",
            "epoch   95 train no_label acc 0.820 loss 0.000 val acc 0.105 loss 141.218\n",
            "epoch   96 train no_label acc 0.820 loss 0.000 val acc 0.105 loss 141.239\n",
            "epoch   97 train no_label acc 0.820 loss 0.000 val acc 0.105 loss 141.259\n",
            "epoch   98 train no_label acc 0.820 loss 0.000 val acc 0.105 loss 141.279\n",
            "epoch   99 train no_label acc 0.820 loss 0.000 val acc 0.105 loss 141.300\n"
          ],
          "name": "stdout"
        }
      ]
    },
    {
      "cell_type": "code",
      "metadata": {
        "id": "kaS-tyrYGlJL",
        "colab_type": "code",
        "colab": {}
      },
      "source": [
        "%matplotlib inline\n",
        "import matplotlib.pyplot as plt\n",
        "\n",
        "fig, loss_ax = plt.subplots()\n",
        "\n",
        "acc_ax = loss_ax.twinx()\n",
        "\n",
        "loss_ax.plot(train_no_label_loss, 'g', label='train no label loss')\n",
        "loss_ax.plot(val_loss, 'r', label='val loss')\n",
        "\n",
        "acc_ax.plot(train_no_label_acc, 'm', label='train no label acc')\n",
        "acc_ax.plot(val_acc, 'y', label='val acc')\n",
        "\n",
        "# 'b', 'g', 'r', 'c', 'm', 'y', 'k', 'w'\n",
        "\n",
        "loss_ax.set_xlabel('epoch')\n",
        "loss_ax.set_ylabel('loss')\n",
        "acc_ax.set_ylabel('accuracy')\n",
        "\n",
        "loss_ax.legend(loc='upper left')\n",
        "acc_ax.legend(loc='lower left')\n",
        "\n",
        "plt.show()"
      ],
      "execution_count": null,
      "outputs": []
    },
    {
      "cell_type": "code",
      "metadata": {
        "id": "KIwINCNMQLHn",
        "colab_type": "code",
        "colab": {
          "base_uri": "https://localhost:8080/",
          "height": 68
        },
        "outputId": "2a42d7b7-4e3c-4774-ce0c-ca8bdc0fdbdd"
      },
      "source": [
        "# 6. 모델 평가하기\n",
        "loss_and_metrics = model.evaluate(x_test, y_test, batch_size=32)\n",
        "print('## evaluation loss and_metrics ##')\n",
        "print(loss_and_metrics)"
      ],
      "execution_count": null,
      "outputs": [
        {
          "output_type": "stream",
          "text": [
            "10000/10000 [==============================] - 1s 73us/step\n",
            "## evaluation loss and_metrics ##\n",
            "[5.018894667625427, 0.7681999802589417]\n"
          ],
          "name": "stdout"
        }
      ]
    },
    {
      "cell_type": "code",
      "metadata": {
        "id": "C763Px_3WAhR",
        "colab_type": "code",
        "colab": {
          "base_uri": "https://localhost:8080/",
          "height": 198
        },
        "outputId": "ae1942ab-d384-4e9e-a0c5-7ad3fc31b2c4"
      },
      "source": [
        "prob_pred.shape"
      ],
      "execution_count": null,
      "outputs": [
        {
          "output_type": "error",
          "ename": "NameError",
          "evalue": "ignored",
          "traceback": [
            "\u001b[0;31m---------------------------------------------------------------------------\u001b[0m",
            "\u001b[0;31mNameError\u001b[0m                                 Traceback (most recent call last)",
            "\u001b[0;32m<ipython-input-57-e1d5213a6f1f>\u001b[0m in \u001b[0;36m<module>\u001b[0;34m()\u001b[0m\n\u001b[0;32m----> 1\u001b[0;31m \u001b[0mprob_pred\u001b[0m\u001b[0;34m.\u001b[0m\u001b[0mshape\u001b[0m\u001b[0;34m\u001b[0m\u001b[0;34m\u001b[0m\u001b[0m\n\u001b[0m",
            "\u001b[0;31mNameError\u001b[0m: name 'prob_pred' is not defined"
          ]
        }
      ]
    },
    {
      "cell_type": "code",
      "metadata": {
        "id": "9wnUCJfRV_Tc",
        "colab_type": "code",
        "colab": {}
      },
      "source": [
        "y = [0.1, 0.3, 0.4, 0.2]\n",
        "y_pred = np.zeros(4)"
      ],
      "execution_count": null,
      "outputs": []
    },
    {
      "cell_type": "code",
      "metadata": {
        "id": "kYN497z0oPX0",
        "colab_type": "code",
        "colab": {}
      },
      "source": [
        "y_pred[np.argmax(y)] = 1.0"
      ],
      "execution_count": null,
      "outputs": []
    },
    {
      "cell_type": "code",
      "metadata": {
        "id": "39aO1Xvqptws",
        "colab_type": "code",
        "colab": {}
      },
      "source": [
        "print(y_pred)"
      ],
      "execution_count": null,
      "outputs": []
    },
    {
      "cell_type": "code",
      "metadata": {
        "id": "S53sT882rLts",
        "colab_type": "code",
        "colab": {}
      },
      "source": [
        "np.mean(np.equal(y_pred, y))"
      ],
      "execution_count": null,
      "outputs": []
    },
    {
      "cell_type": "code",
      "metadata": {
        "id": "ro4RTe8LtMyY",
        "colab_type": "code",
        "colab": {}
      },
      "source": [
        ""
      ],
      "execution_count": null,
      "outputs": []
    }
  ]
}